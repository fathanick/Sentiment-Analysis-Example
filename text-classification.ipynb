{
 "cells": [
  {
   "cell_type": "code",
   "execution_count": 1,
   "metadata": {
    "collapsed": true
   },
   "outputs": [],
   "source": [
    "import pandas as pd\n",
    "\n",
    "df = pd.read_excel('DATA SAMPEL/dataset.xlsx') \n",
    "#It is assumed that the data has been preprocessed"
   ]
  },
  {
   "cell_type": "code",
   "execution_count": 2,
   "metadata": {},
   "outputs": [
    {
     "name": "stdout",
     "output_type": "stream",
     "text": [
      "                                                 text label\n",
      "0                                     benci  penipuan   neg\n",
      "1                              gambarnya jelek sekali   neg\n",
      "2                             gedung bocor becek  bau   neg\n",
      "3                                        airnya kotor   neg\n",
      "4                 tanahnya kurang bersih  tidak subur   neg\n",
      "5   hutannya terbakar sehingga mengakibatkan polus...   neg\n",
      "6           ruangan menjadi gelap karena listrik mati   neg\n",
      "7                              wc mampet bikin pusing   neg\n",
      "8                   pusing banget kepalaku jadi males   neg\n",
      "9                        males lihat acara di senayan   neg\n",
      "10                           bajuku kotor  tidak rapi   neg\n",
      "11                            tidak bersih kotor  bau   neg\n",
      "12                                 sedih sekali hari    neg\n",
      "13                                  menyedihkan jelek   neg\n",
      "14                              perilaku buruk  jorok   neg\n",
      "15             harga barang mahal  tidak bisa ditawar   neg\n",
      "16                   payah banget nih orang males gua   neg\n",
      "17                           norak jelek kurang bagus   neg\n",
      "18                          udah becek bau kumuh lagi   neg\n",
      "19          dasar curang jahat sukanya ngerjain orang   neg\n",
      "20               paling males liat sampah kotor jijik   neg\n",
      "21     jahat lu sama temen sendiri ngatain kejam gitu   neg\n",
      "22                            dasar jahat kurang ajar   neg\n",
      "23        jijik sama kotoran di got yang bikin banjir   neg\n",
      "24           sulit susah nggak mudah bersihkan sampah   neg\n",
      "25                       aku sangat bahagia melihatmu   pos\n",
      "26                      senang mendapatkan juara lagi   pos\n",
      "27                                 hore senang sekali   pos\n",
      "28                               bahagia  acara hari    pos\n",
      "29                        senyum bahagia ceria sekali   pos\n",
      "30                                 murah meriah ceria   pos\n",
      "31                                senang  bergembira    pos\n",
      "32                  gembira ria bersama tertawa riang   pos\n",
      "33                          baik sekali penampilannya   pos\n",
      "34                      bajunya rapi sekali jadi suka   pos\n",
      "35                              suka sekali  makanan    pos\n",
      "36                          enak sekali rasa minuman    pos\n",
      "37                              nyaman  suara lembut    pos\n",
      "38                        halus sekali hasil kerjanya   pos\n",
      "39                              bersama tertawa riang   pos\n",
      "40                      wah bagus banget tuh rumahnya   pos\n",
      "41                hore dapat juara lagi alhamdulillah   pos\n",
      "42     udah bersih rapi wangi teratur senang pokoknya   pos\n",
      "43        cukup lezat lembut teksturnya manis rasanya   pos\n",
      "44                    hebat sekali bahagia melihatnya   pos\n",
      "45                   cepat hemat mudah senang gembira   pos\n",
      "46  enak didengar halus suaranya irit bersih hemat...   pos\n",
      "47     hore nyaman sekali wangi harum semerbak bersih   pos\n",
      "48                       tertawa bahagia cerah ceria    pos\n",
      "49         lezat gurih murah tidak mahal dekat nyaman   pos\n"
     ]
    }
   ],
   "source": [
    "print(df)"
   ]
  },
  {
   "cell_type": "code",
   "execution_count": 3,
   "metadata": {
    "collapsed": true
   },
   "outputs": [],
   "source": [
    "from sklearn.feature_extraction.text import TfidfVectorizer"
   ]
  },
  {
   "cell_type": "code",
   "execution_count": 4,
   "metadata": {
    "collapsed": true
   },
   "outputs": [],
   "source": [
    "tfidf = TfidfVectorizer(sublinear_tf=True, min_df=5, norm='l2', encoding='latin-1', ngram_range=(1, 2))"
   ]
  },
  {
   "cell_type": "code",
   "execution_count": 5,
   "metadata": {},
   "outputs": [
    {
     "data": {
      "text/plain": [
       "(50, 5)"
      ]
     },
     "execution_count": 5,
     "metadata": {},
     "output_type": "execute_result"
    }
   ],
   "source": [
    "features = tfidf.fit_transform(df.text).toarray()\n",
    "labels = df.label\n",
    "features.shape"
   ]
  },
  {
   "cell_type": "code",
   "execution_count": 6,
   "metadata": {
    "collapsed": true
   },
   "outputs": [],
   "source": [
    "from sklearn.model_selection import train_test_split\n",
    "from sklearn.feature_extraction.text import CountVectorizer\n",
    "from sklearn.feature_extraction.text import TfidfTransformer\n",
    "from sklearn.naive_bayes import MultinomialNB\n",
    "\n",
    "X_train, X_test, y_train, y_test = train_test_split(df['text'], df['label'], random_state = 0)\n",
    "count_vect = CountVectorizer()\n",
    "X_train_counts = count_vect.fit_transform(X_train)\n",
    "tfidf_transformer = TfidfTransformer()\n",
    "X_train_tfidf = tfidf_transformer.fit_transform(X_train_counts)\n",
    "clf = MultinomialNB().fit(X_train_tfidf, y_train)"
   ]
  },
  {
   "cell_type": "code",
   "execution_count": 11,
   "metadata": {},
   "outputs": [
    {
     "name": "stdout",
     "output_type": "stream",
     "text": [
      "['neg' 'pos']\n"
     ]
    }
   ],
   "source": [
    "print(clf.predict(count_vect.transform([\"dasar payah\",\"aku sangat bahagia dan ceria\"])))"
   ]
  },
  {
   "cell_type": "code",
   "execution_count": 8,
   "metadata": {
    "collapsed": true
   },
   "outputs": [],
   "source": [
    "from sklearn.linear_model import LogisticRegression\n",
    "from sklearn.ensemble import RandomForestClassifier\n",
    "from sklearn.svm import LinearSVC\n",
    "from sklearn.model_selection import cross_val_score\n",
    "models = [\n",
    "    RandomForestClassifier(n_estimators=200, max_depth=3, random_state=0),\n",
    "    LinearSVC(),\n",
    "    MultinomialNB(),\n",
    "    LogisticRegression(random_state=0),\n",
    "]\n",
    "CV = 5\n",
    "cv_df = pd.DataFrame(index=range(CV * len(models)))\n",
    "entries = []\n",
    "for model in models:\n",
    "  model_name = model.__class__.__name__\n",
    "  accuracies = cross_val_score(model, features, labels, scoring='accuracy', cv=CV)\n",
    "  for fold_idx, accuracy in enumerate(accuracies):\n",
    "    entries.append((model_name, fold_idx, accuracy))\n",
    "cv_df = pd.DataFrame(entries, columns=['model_name', 'fold_idx', 'accuracy'])"
   ]
  },
  {
   "cell_type": "code",
   "execution_count": 9,
   "metadata": {},
   "outputs": [
    {
     "name": "stderr",
     "output_type": "stream",
     "text": [
      "C:\\ProgramData\\Anaconda3\\lib\\site-packages\\seaborn\\categorical.py:462: FutureWarning: remove_na is deprecated and is a private function. Do not use.\n",
      "  box_data = remove_na(group_data)\n"
     ]
    },
    {
     "data": {
      "image/png": "[encoded data removed]",
      "text/plain": [
       "<matplotlib.figure.Figure at 0x2c861abe940>"
      ]
     },
     "metadata": {},
     "output_type": "display_data"
    }
   ],
   "source": [
    "import seaborn as sns\n",
    "import matplotlib.pyplot as plt\n",
    "sns.boxplot(x='model_name', y='accuracy', data=cv_df)\n",
    "sns.stripplot(x='model_name', y='accuracy', data=cv_df, \n",
    "              size=8, jitter=True, edgecolor=\"gray\", linewidth=2)\n",
    "plt.show()"
   ]
  },
  {
   "cell_type": "code",
   "execution_count": 10,
   "metadata": {},
   "outputs": [
    {
     "data": {
      "text/plain": [
       "model_name\n",
       "LinearSVC                 0.76\n",
       "LogisticRegression        0.78\n",
       "MultinomialNB             0.76\n",
       "RandomForestClassifier    0.78\n",
       "Name: accuracy, dtype: float64"
      ]
     },
     "execution_count": 10,
     "metadata": {},
     "output_type": "execute_result"
    }
   ],
   "source": [
    "cv_df.groupby('model_name').accuracy.mean()"
   ]
  },
  {
   "cell_type": "code",
   "execution_count": null,
   "metadata": {
    "collapsed": true
   },
   "outputs": [],
   "source": []
  }
 ],
 "metadata": {
  "kernelspec": {
   "display_name": "Python 3",
   "language": "python",
   "name": "python3"
  },
  "language_info": {
   "codemirror_mode": {
    "name": "ipython",
    "version": 3
   },
   "file_extension": ".py",
   "mimetype": "text/x-python",
   "name": "python",
   "nbconvert_exporter": "python",
   "pygments_lexer": "ipython3",
   "version": "3.6.3"
  }
 },
 "nbformat": 4,
 "nbformat_minor": 2
}
